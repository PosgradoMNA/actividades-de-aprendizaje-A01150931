{
 "cells": [
  {
   "cell_type": "markdown",
   "metadata": {
    "id": "6mUW5QNwhz5T"
   },
   "source": [
    "Este notebook se basa en información de target\n",
    "![imagen.png](https://www.america-retail.com/static//2020/12/target01.jpg)\n",
    "\n",
    "\n",
    "Ahora imagina que somos parte del equipo de data science de la empresa Target, una de las tiendas con mayor presencia en Estados Unidos. El departamento de logistica acude a nosotros para saber donde le conviene poner sus almacenes, para que se optimice el gasto de gasolina, los tiempos de entrega de los productos y se disminuyan costos. Para ello, nos pasan los datos de latitud y longitud de cada una de las tiendas.\n",
    "\n",
    "https://www.kaggle.com/datasets/saejinmahlauheinert/target-store-locations?select=target-locations.csv\n",
    "\n",
    "Si quieres saber un poco más de graficas geográficas consulta el siguiente notebook\n",
    "https://colab.research.google.com/github/QuantEcon/quantecon-notebooks-datascience/blob/master/applications/maps.ipynb#scrollTo=uo2oPtSCeAOz"
   ]
  },
  {
   "cell_type": "code",
   "execution_count": 149,
   "metadata": {
    "colab": {
     "base_uri": "https://localhost:8080/"
    },
    "id": "YwkfEqinwESD",
    "outputId": "4f3f59bb-a439-4cc0-bf4b-e86aa3702621"
   },
   "outputs": [],
   "source": [
    "#! pip install qeds fiona geopandas xgboost gensim folium pyLDAvis descartes"
   ]
  },
  {
   "cell_type": "code",
   "execution_count": 150,
   "metadata": {
    "id": "WBpdGjbquQii"
   },
   "outputs": [],
   "source": [
    "import pandas as pd\n",
    "import numpy as np\n",
    "from tqdm import tqdm\n",
    "%matplotlib inline\n",
    "import numpy as np\n",
    "import matplotlib.pyplot as plt\n",
    "import scipy\n",
    "from scipy.cluster.vq import vq\n",
    "\n",
    "import geopandas as gpd\n",
    "from  geopandas import GeoDataFrame\n",
    "from shapely.geometry import Point\n",
    "import reverse_geocode \n",
    "\n",
    "import warnings\n",
    "warnings.filterwarnings('ignore')"
   ]
  },
  {
   "cell_type": "markdown",
   "metadata": {
    "id": "KNTIoZlGvPum"
   },
   "source": [
    "Importa la base de datos"
   ]
  },
  {
   "cell_type": "code",
   "execution_count": 151,
   "metadata": {
    "id": "PAJWHRVN781V"
   },
   "outputs": [
    {
     "data": {
      "text/html": [
       "<div>\n",
       "<style scoped>\n",
       "    .dataframe tbody tr th:only-of-type {\n",
       "        vertical-align: middle;\n",
       "    }\n",
       "\n",
       "    .dataframe tbody tr th {\n",
       "        vertical-align: top;\n",
       "    }\n",
       "\n",
       "    .dataframe thead th {\n",
       "        text-align: right;\n",
       "    }\n",
       "</style>\n",
       "<table border=\"1\" class=\"dataframe\">\n",
       "  <thead>\n",
       "    <tr style=\"text-align: right;\">\n",
       "      <th></th>\n",
       "      <th>name</th>\n",
       "      <th>latitude</th>\n",
       "      <th>longitude</th>\n",
       "      <th>address</th>\n",
       "      <th>phone</th>\n",
       "      <th>website</th>\n",
       "    </tr>\n",
       "  </thead>\n",
       "  <tbody>\n",
       "    <tr>\n",
       "      <th>0</th>\n",
       "      <td>Alabaster</td>\n",
       "      <td>33.224225</td>\n",
       "      <td>-86.804174</td>\n",
       "      <td>250 S Colonial Dr, Alabaster, AL 35007-4657</td>\n",
       "      <td>205-564-2608</td>\n",
       "      <td>https://www.target.com/sl/alabaster/2276</td>\n",
       "    </tr>\n",
       "    <tr>\n",
       "      <th>1</th>\n",
       "      <td>Bessemer</td>\n",
       "      <td>33.334550</td>\n",
       "      <td>-86.989778</td>\n",
       "      <td>4889 Promenade Pkwy, Bessemer, AL 35022-7305</td>\n",
       "      <td>205-565-3760</td>\n",
       "      <td>https://www.target.com/sl/bessemer/2375</td>\n",
       "    </tr>\n",
       "    <tr>\n",
       "      <th>2</th>\n",
       "      <td>Daphne</td>\n",
       "      <td>30.602875</td>\n",
       "      <td>-87.895932</td>\n",
       "      <td>1698 US Highway 98, Daphne, AL 36526-4252</td>\n",
       "      <td>251-621-3540</td>\n",
       "      <td>https://www.target.com/sl/daphne/1274</td>\n",
       "    </tr>\n",
       "    <tr>\n",
       "      <th>3</th>\n",
       "      <td>Decatur</td>\n",
       "      <td>34.560148</td>\n",
       "      <td>-86.971559</td>\n",
       "      <td>1235 Point Mallard Pkwy SE, Decatur, AL 35601-...</td>\n",
       "      <td>256-898-3036</td>\n",
       "      <td>https://www.target.com/sl/decatur/2084</td>\n",
       "    </tr>\n",
       "    <tr>\n",
       "      <th>4</th>\n",
       "      <td>Dothan</td>\n",
       "      <td>31.266061</td>\n",
       "      <td>-85.446422</td>\n",
       "      <td>4601 Montgomery Hwy, Dothan, AL 36303-1522</td>\n",
       "      <td>334-340-1112</td>\n",
       "      <td>https://www.target.com/sl/dothan/1468</td>\n",
       "    </tr>\n",
       "    <tr>\n",
       "      <th>...</th>\n",
       "      <td>...</td>\n",
       "      <td>...</td>\n",
       "      <td>...</td>\n",
       "      <td>...</td>\n",
       "      <td>...</td>\n",
       "      <td>...</td>\n",
       "    </tr>\n",
       "    <tr>\n",
       "      <th>1834</th>\n",
       "      <td>Waukesha</td>\n",
       "      <td>43.034293</td>\n",
       "      <td>-88.176840</td>\n",
       "      <td>2401 Kossow Rd, Waukesha, WI 53186-2904</td>\n",
       "      <td>262-784-8646</td>\n",
       "      <td>https://www.target.com/sl/waukesha/82</td>\n",
       "    </tr>\n",
       "    <tr>\n",
       "      <th>1835</th>\n",
       "      <td>Waukesha South</td>\n",
       "      <td>42.989604</td>\n",
       "      <td>-88.259806</td>\n",
       "      <td>1250 W Sunset Dr, Waukesha, WI 53189-8423</td>\n",
       "      <td>262-832-1272</td>\n",
       "      <td>https://www.target.com/sl/waukesha/2546</td>\n",
       "    </tr>\n",
       "    <tr>\n",
       "      <th>1836</th>\n",
       "      <td>Casper</td>\n",
       "      <td>42.846799</td>\n",
       "      <td>-106.264166</td>\n",
       "      <td>401 SE Wyoming Blvd, Casper, WY 82609-4219</td>\n",
       "      <td>307-265-8214</td>\n",
       "      <td>https://www.target.com/sl/casper/164</td>\n",
       "    </tr>\n",
       "    <tr>\n",
       "      <th>1837</th>\n",
       "      <td>Cheyenne</td>\n",
       "      <td>41.162019</td>\n",
       "      <td>-104.800048</td>\n",
       "      <td>1708 Dell Range Blvd, Cheyenne, WY 82009-4945</td>\n",
       "      <td>307-637-8888</td>\n",
       "      <td>https://www.target.com/sl/cheyenne/224</td>\n",
       "    </tr>\n",
       "    <tr>\n",
       "      <th>1838</th>\n",
       "      <td>Jackson Hole</td>\n",
       "      <td>43.469617</td>\n",
       "      <td>-110.789456</td>\n",
       "      <td>510 S Hwy 89, Jackson, WY 83001</td>\n",
       "      <td>307-200-3139</td>\n",
       "      <td>https://www.target.com/sl/jackson-hole/3409</td>\n",
       "    </tr>\n",
       "  </tbody>\n",
       "</table>\n",
       "<p>1839 rows × 6 columns</p>\n",
       "</div>"
      ],
      "text/plain": [
       "                name   latitude   longitude  \\\n",
       "0          Alabaster  33.224225  -86.804174   \n",
       "1           Bessemer  33.334550  -86.989778   \n",
       "2             Daphne  30.602875  -87.895932   \n",
       "3            Decatur  34.560148  -86.971559   \n",
       "4             Dothan  31.266061  -85.446422   \n",
       "...              ...        ...         ...   \n",
       "1834        Waukesha  43.034293  -88.176840   \n",
       "1835  Waukesha South  42.989604  -88.259806   \n",
       "1836          Casper  42.846799 -106.264166   \n",
       "1837        Cheyenne  41.162019 -104.800048   \n",
       "1838    Jackson Hole  43.469617 -110.789456   \n",
       "\n",
       "                                                address         phone  \\\n",
       "0           250 S Colonial Dr, Alabaster, AL 35007-4657  205-564-2608   \n",
       "1          4889 Promenade Pkwy, Bessemer, AL 35022-7305  205-565-3760   \n",
       "2             1698 US Highway 98, Daphne, AL 36526-4252  251-621-3540   \n",
       "3     1235 Point Mallard Pkwy SE, Decatur, AL 35601-...  256-898-3036   \n",
       "4            4601 Montgomery Hwy, Dothan, AL 36303-1522  334-340-1112   \n",
       "...                                                 ...           ...   \n",
       "1834            2401 Kossow Rd, Waukesha, WI 53186-2904  262-784-8646   \n",
       "1835          1250 W Sunset Dr, Waukesha, WI 53189-8423  262-832-1272   \n",
       "1836         401 SE Wyoming Blvd, Casper, WY 82609-4219  307-265-8214   \n",
       "1837      1708 Dell Range Blvd, Cheyenne, WY 82009-4945  307-637-8888   \n",
       "1838                    510 S Hwy 89, Jackson, WY 83001  307-200-3139   \n",
       "\n",
       "                                          website  \n",
       "0        https://www.target.com/sl/alabaster/2276  \n",
       "1         https://www.target.com/sl/bessemer/2375  \n",
       "2           https://www.target.com/sl/daphne/1274  \n",
       "3          https://www.target.com/sl/decatur/2084  \n",
       "4           https://www.target.com/sl/dothan/1468  \n",
       "...                                           ...  \n",
       "1834        https://www.target.com/sl/waukesha/82  \n",
       "1835      https://www.target.com/sl/waukesha/2546  \n",
       "1836         https://www.target.com/sl/casper/164  \n",
       "1837       https://www.target.com/sl/cheyenne/224  \n",
       "1838  https://www.target.com/sl/jackson-hole/3409  \n",
       "\n",
       "[1839 rows x 6 columns]"
      ]
     },
     "execution_count": 151,
     "metadata": {},
     "output_type": "execute_result"
    }
   ],
   "source": [
    "#url=\"https://raw.githubusercontent.com/marypazrf/bdd/main/target-locations.csv\"\n",
    "#df=pd.read_csv(url)\n",
    "df=pd.read_csv('target-locations.csv')\n",
    "df"
   ]
  },
  {
   "cell_type": "markdown",
   "metadata": {
    "id": "sH4hvPAYvUGY"
   },
   "source": [
    "Exploremos los datos."
   ]
  },
  {
   "cell_type": "code",
   "execution_count": 152,
   "metadata": {
    "colab": {
     "base_uri": "https://localhost:8080/",
     "height": 206
    },
    "id": "DuzNp7KseyBg",
    "outputId": "9d08c3b6-e45a-4175-b61f-f84fbb9e3704"
   },
   "outputs": [
    {
     "data": {
      "text/html": [
       "<div>\n",
       "<style scoped>\n",
       "    .dataframe tbody tr th:only-of-type {\n",
       "        vertical-align: middle;\n",
       "    }\n",
       "\n",
       "    .dataframe tbody tr th {\n",
       "        vertical-align: top;\n",
       "    }\n",
       "\n",
       "    .dataframe thead th {\n",
       "        text-align: right;\n",
       "    }\n",
       "</style>\n",
       "<table border=\"1\" class=\"dataframe\">\n",
       "  <thead>\n",
       "    <tr style=\"text-align: right;\">\n",
       "      <th></th>\n",
       "      <th>name</th>\n",
       "      <th>latitude</th>\n",
       "      <th>longitude</th>\n",
       "      <th>address</th>\n",
       "      <th>phone</th>\n",
       "      <th>website</th>\n",
       "    </tr>\n",
       "  </thead>\n",
       "  <tbody>\n",
       "    <tr>\n",
       "      <th>0</th>\n",
       "      <td>Alabaster</td>\n",
       "      <td>33.224225</td>\n",
       "      <td>-86.804174</td>\n",
       "      <td>250 S Colonial Dr, Alabaster, AL 35007-4657</td>\n",
       "      <td>205-564-2608</td>\n",
       "      <td>https://www.target.com/sl/alabaster/2276</td>\n",
       "    </tr>\n",
       "    <tr>\n",
       "      <th>1</th>\n",
       "      <td>Bessemer</td>\n",
       "      <td>33.334550</td>\n",
       "      <td>-86.989778</td>\n",
       "      <td>4889 Promenade Pkwy, Bessemer, AL 35022-7305</td>\n",
       "      <td>205-565-3760</td>\n",
       "      <td>https://www.target.com/sl/bessemer/2375</td>\n",
       "    </tr>\n",
       "    <tr>\n",
       "      <th>2</th>\n",
       "      <td>Daphne</td>\n",
       "      <td>30.602875</td>\n",
       "      <td>-87.895932</td>\n",
       "      <td>1698 US Highway 98, Daphne, AL 36526-4252</td>\n",
       "      <td>251-621-3540</td>\n",
       "      <td>https://www.target.com/sl/daphne/1274</td>\n",
       "    </tr>\n",
       "    <tr>\n",
       "      <th>3</th>\n",
       "      <td>Decatur</td>\n",
       "      <td>34.560148</td>\n",
       "      <td>-86.971559</td>\n",
       "      <td>1235 Point Mallard Pkwy SE, Decatur, AL 35601-...</td>\n",
       "      <td>256-898-3036</td>\n",
       "      <td>https://www.target.com/sl/decatur/2084</td>\n",
       "    </tr>\n",
       "    <tr>\n",
       "      <th>4</th>\n",
       "      <td>Dothan</td>\n",
       "      <td>31.266061</td>\n",
       "      <td>-85.446422</td>\n",
       "      <td>4601 Montgomery Hwy, Dothan, AL 36303-1522</td>\n",
       "      <td>334-340-1112</td>\n",
       "      <td>https://www.target.com/sl/dothan/1468</td>\n",
       "    </tr>\n",
       "  </tbody>\n",
       "</table>\n",
       "</div>"
      ],
      "text/plain": [
       "        name   latitude  longitude  \\\n",
       "0  Alabaster  33.224225 -86.804174   \n",
       "1   Bessemer  33.334550 -86.989778   \n",
       "2     Daphne  30.602875 -87.895932   \n",
       "3    Decatur  34.560148 -86.971559   \n",
       "4     Dothan  31.266061 -85.446422   \n",
       "\n",
       "                                             address         phone  \\\n",
       "0        250 S Colonial Dr, Alabaster, AL 35007-4657  205-564-2608   \n",
       "1       4889 Promenade Pkwy, Bessemer, AL 35022-7305  205-565-3760   \n",
       "2          1698 US Highway 98, Daphne, AL 36526-4252  251-621-3540   \n",
       "3  1235 Point Mallard Pkwy SE, Decatur, AL 35601-...  256-898-3036   \n",
       "4         4601 Montgomery Hwy, Dothan, AL 36303-1522  334-340-1112   \n",
       "\n",
       "                                    website  \n",
       "0  https://www.target.com/sl/alabaster/2276  \n",
       "1   https://www.target.com/sl/bessemer/2375  \n",
       "2     https://www.target.com/sl/daphne/1274  \n",
       "3    https://www.target.com/sl/decatur/2084  \n",
       "4     https://www.target.com/sl/dothan/1468  "
      ]
     },
     "execution_count": 152,
     "metadata": {},
     "output_type": "execute_result"
    }
   ],
   "source": [
    "df.head()"
   ]
  },
  {
   "cell_type": "code",
   "execution_count": 153,
   "metadata": {
    "colab": {
     "base_uri": "https://localhost:8080/"
    },
    "id": "MxbhdLkavl7Q",
    "outputId": "a8717c27-b24d-4d71-9153-3f94ee0db339"
   },
   "outputs": [
    {
     "name": "stdout",
     "output_type": "stream",
     "text": [
      "<class 'pandas.core.frame.DataFrame'>\n",
      "RangeIndex: 1839 entries, 0 to 1838\n",
      "Data columns (total 6 columns):\n",
      " #   Column     Non-Null Count  Dtype  \n",
      "---  ------     --------------  -----  \n",
      " 0   name       1839 non-null   object \n",
      " 1   latitude   1839 non-null   float64\n",
      " 2   longitude  1839 non-null   float64\n",
      " 3   address    1839 non-null   object \n",
      " 4   phone      1839 non-null   object \n",
      " 5   website    1839 non-null   object \n",
      "dtypes: float64(2), object(4)\n",
      "memory usage: 86.3+ KB\n"
     ]
    }
   ],
   "source": [
    "df.info()"
   ]
  },
  {
   "cell_type": "markdown",
   "metadata": {
    "id": "cpfqKT4qxAZz"
   },
   "source": [
    "**Definición de Latitud y Longitud**\n",
    "\n",
    "**Latitud** Es la distancia en grados, minutos y segundos que hay con respecto al paralelo principal, que es el ecuador (0º). La latitud puede ser norte y sur.\n",
    "\n",
    "**Longitud**: Es la distancia en grados, minutos y segundos que hay con respecto al meridiano principal, que es el meridiano de Greenwich (0º).La longitud puede ser este y oeste."
   ]
  },
  {
   "cell_type": "code",
   "execution_count": 154,
   "metadata": {
    "id": "oPzX3DGju0As"
   },
   "outputs": [],
   "source": [
    "latlong=df[[\"latitude\",\"longitude\"]]"
   ]
  },
  {
   "cell_type": "markdown",
   "metadata": {
    "id": "gMk6UVE2e67y"
   },
   "source": [
    "¡Visualizemos los datos!, para empezar a notar algún patron. \n",
    "\n",
    "A simple vista pudieramos pensar que tenemos algunos datos atípicos u outliers, pero .... no es así, simplemente esta grafica no nos está dando toda la información."
   ]
  },
  {
   "cell_type": "code",
   "execution_count": 155,
   "metadata": {
    "colab": {
     "base_uri": "https://localhost:8080/",
     "height": 297
    },
    "id": "-QZRqKiDfj2J",
    "outputId": "a58414cd-78fd-4d51-d02e-0abbc46caeee"
   },
   "outputs": [
    {
     "data": {
      "text/plain": [
       "<AxesSubplot:xlabel='longitude', ylabel='latitude'>"
      ]
     },
     "execution_count": 155,
     "metadata": {},
     "output_type": "execute_result"
    },
    {
     "data": {
      "image/png": "[encoded data removed]",
      "text/plain": [
       "<Figure size 432x288 with 1 Axes>"
      ]
     },
     "metadata": {
      "needs_background": "light"
     },
     "output_type": "display_data"
    }
   ],
   "source": [
    "#extrae los datos interesantes\n",
    "latlong.plot.scatter( \"longitude\",\"latitude\")"
   ]
  },
  {
   "cell_type": "code",
   "execution_count": 156,
   "metadata": {
    "colab": {
     "base_uri": "https://localhost:8080/",
     "height": 300
    },
    "id": "O6b3QguyyjM_",
    "outputId": "3acf887d-944c-4cf0-849d-471fa614c795"
   },
   "outputs": [
    {
     "data": {
      "text/html": [
       "<div>\n",
       "<style scoped>\n",
       "    .dataframe tbody tr th:only-of-type {\n",
       "        vertical-align: middle;\n",
       "    }\n",
       "\n",
       "    .dataframe tbody tr th {\n",
       "        vertical-align: top;\n",
       "    }\n",
       "\n",
       "    .dataframe thead th {\n",
       "        text-align: right;\n",
       "    }\n",
       "</style>\n",
       "<table border=\"1\" class=\"dataframe\">\n",
       "  <thead>\n",
       "    <tr style=\"text-align: right;\">\n",
       "      <th></th>\n",
       "      <th>latitude</th>\n",
       "      <th>longitude</th>\n",
       "    </tr>\n",
       "  </thead>\n",
       "  <tbody>\n",
       "    <tr>\n",
       "      <th>count</th>\n",
       "      <td>1839.000000</td>\n",
       "      <td>1839.000000</td>\n",
       "    </tr>\n",
       "    <tr>\n",
       "      <th>mean</th>\n",
       "      <td>37.791238</td>\n",
       "      <td>-91.986881</td>\n",
       "    </tr>\n",
       "    <tr>\n",
       "      <th>std</th>\n",
       "      <td>5.272299</td>\n",
       "      <td>16.108046</td>\n",
       "    </tr>\n",
       "    <tr>\n",
       "      <th>min</th>\n",
       "      <td>19.647855</td>\n",
       "      <td>-159.376962</td>\n",
       "    </tr>\n",
       "    <tr>\n",
       "      <th>25%</th>\n",
       "      <td>33.882605</td>\n",
       "      <td>-98.268828</td>\n",
       "    </tr>\n",
       "    <tr>\n",
       "      <th>50%</th>\n",
       "      <td>38.955432</td>\n",
       "      <td>-87.746346</td>\n",
       "    </tr>\n",
       "    <tr>\n",
       "      <th>75%</th>\n",
       "      <td>41.658341</td>\n",
       "      <td>-80.084833</td>\n",
       "    </tr>\n",
       "    <tr>\n",
       "      <th>max</th>\n",
       "      <td>61.577919</td>\n",
       "      <td>-68.742331</td>\n",
       "    </tr>\n",
       "  </tbody>\n",
       "</table>\n",
       "</div>"
      ],
      "text/plain": [
       "          latitude    longitude\n",
       "count  1839.000000  1839.000000\n",
       "mean     37.791238   -91.986881\n",
       "std       5.272299    16.108046\n",
       "min      19.647855  -159.376962\n",
       "25%      33.882605   -98.268828\n",
       "50%      38.955432   -87.746346\n",
       "75%      41.658341   -80.084833\n",
       "max      61.577919   -68.742331"
      ]
     },
     "execution_count": 156,
     "metadata": {},
     "output_type": "execute_result"
    }
   ],
   "source": [
    "latlong.describe()"
   ]
  },
  {
   "cell_type": "markdown",
   "metadata": {
    "id": "hkPMyAyIDunz"
   },
   "source": [
    "Para entender un poco más, nos auxiliaremos de una librería para graficar datos geográficos. Esto nos ayudara a tener un mejor entendimiento de ellos.\n",
    "\n",
    "\n"
   ]
  },
  {
   "cell_type": "code",
   "execution_count": 157,
   "metadata": {
    "id": "_blyM4esyJTu"
   },
   "outputs": [],
   "source": [
    "\n",
    "%matplotlib inline\n",
    "# activate plot theme\n",
    "\n",
    "#import qeds\n",
    "#qeds.themes.mpl_style();"
   ]
  },
  {
   "cell_type": "code",
   "execution_count": 158,
   "metadata": {
    "colab": {
     "base_uri": "https://localhost:8080/",
     "height": 206
    },
    "id": "01i0TciKfPco",
    "outputId": "3662ce4c-9349-4aba-fc07-e8d4c3eac83a"
   },
   "outputs": [
    {
     "data": {
      "text/html": [
       "<div>\n",
       "<style scoped>\n",
       "    .dataframe tbody tr th:only-of-type {\n",
       "        vertical-align: middle;\n",
       "    }\n",
       "\n",
       "    .dataframe tbody tr th {\n",
       "        vertical-align: top;\n",
       "    }\n",
       "\n",
       "    .dataframe thead th {\n",
       "        text-align: right;\n",
       "    }\n",
       "</style>\n",
       "<table border=\"1\" class=\"dataframe\">\n",
       "  <thead>\n",
       "    <tr style=\"text-align: right;\">\n",
       "      <th></th>\n",
       "      <th>name</th>\n",
       "      <th>latitude</th>\n",
       "      <th>longitude</th>\n",
       "      <th>address</th>\n",
       "      <th>phone</th>\n",
       "      <th>website</th>\n",
       "      <th>Coordinates</th>\n",
       "    </tr>\n",
       "  </thead>\n",
       "  <tbody>\n",
       "    <tr>\n",
       "      <th>0</th>\n",
       "      <td>Alabaster</td>\n",
       "      <td>33.224225</td>\n",
       "      <td>-86.804174</td>\n",
       "      <td>250 S Colonial Dr, Alabaster, AL 35007-4657</td>\n",
       "      <td>205-564-2608</td>\n",
       "      <td>https://www.target.com/sl/alabaster/2276</td>\n",
       "      <td>POINT (-86.80417369999999 33.2242254)</td>\n",
       "    </tr>\n",
       "    <tr>\n",
       "      <th>1</th>\n",
       "      <td>Bessemer</td>\n",
       "      <td>33.334550</td>\n",
       "      <td>-86.989778</td>\n",
       "      <td>4889 Promenade Pkwy, Bessemer, AL 35022-7305</td>\n",
       "      <td>205-565-3760</td>\n",
       "      <td>https://www.target.com/sl/bessemer/2375</td>\n",
       "      <td>POINT (-86.98977789999999 33.3345501)</td>\n",
       "    </tr>\n",
       "    <tr>\n",
       "      <th>2</th>\n",
       "      <td>Daphne</td>\n",
       "      <td>30.602875</td>\n",
       "      <td>-87.895932</td>\n",
       "      <td>1698 US Highway 98, Daphne, AL 36526-4252</td>\n",
       "      <td>251-621-3540</td>\n",
       "      <td>https://www.target.com/sl/daphne/1274</td>\n",
       "      <td>POINT (-87.89593169999999 30.6028747)</td>\n",
       "    </tr>\n",
       "    <tr>\n",
       "      <th>3</th>\n",
       "      <td>Decatur</td>\n",
       "      <td>34.560148</td>\n",
       "      <td>-86.971559</td>\n",
       "      <td>1235 Point Mallard Pkwy SE, Decatur, AL 35601-...</td>\n",
       "      <td>256-898-3036</td>\n",
       "      <td>https://www.target.com/sl/decatur/2084</td>\n",
       "      <td>POINT (-86.9715595 34.5601477)</td>\n",
       "    </tr>\n",
       "    <tr>\n",
       "      <th>4</th>\n",
       "      <td>Dothan</td>\n",
       "      <td>31.266061</td>\n",
       "      <td>-85.446422</td>\n",
       "      <td>4601 Montgomery Hwy, Dothan, AL 36303-1522</td>\n",
       "      <td>334-340-1112</td>\n",
       "      <td>https://www.target.com/sl/dothan/1468</td>\n",
       "      <td>POINT (-85.4464222 31.2660613)</td>\n",
       "    </tr>\n",
       "  </tbody>\n",
       "</table>\n",
       "</div>"
      ],
      "text/plain": [
       "        name   latitude  longitude  \\\n",
       "0  Alabaster  33.224225 -86.804174   \n",
       "1   Bessemer  33.334550 -86.989778   \n",
       "2     Daphne  30.602875 -87.895932   \n",
       "3    Decatur  34.560148 -86.971559   \n",
       "4     Dothan  31.266061 -85.446422   \n",
       "\n",
       "                                             address         phone  \\\n",
       "0        250 S Colonial Dr, Alabaster, AL 35007-4657  205-564-2608   \n",
       "1       4889 Promenade Pkwy, Bessemer, AL 35022-7305  205-565-3760   \n",
       "2          1698 US Highway 98, Daphne, AL 36526-4252  251-621-3540   \n",
       "3  1235 Point Mallard Pkwy SE, Decatur, AL 35601-...  256-898-3036   \n",
       "4         4601 Montgomery Hwy, Dothan, AL 36303-1522  334-340-1112   \n",
       "\n",
       "                                    website  \\\n",
       "0  https://www.target.com/sl/alabaster/2276   \n",
       "1   https://www.target.com/sl/bessemer/2375   \n",
       "2     https://www.target.com/sl/daphne/1274   \n",
       "3    https://www.target.com/sl/decatur/2084   \n",
       "4     https://www.target.com/sl/dothan/1468   \n",
       "\n",
       "                             Coordinates  \n",
       "0  POINT (-86.80417369999999 33.2242254)  \n",
       "1  POINT (-86.98977789999999 33.3345501)  \n",
       "2  POINT (-87.89593169999999 30.6028747)  \n",
       "3         POINT (-86.9715595 34.5601477)  \n",
       "4         POINT (-85.4464222 31.2660613)  "
      ]
     },
     "execution_count": 158,
     "metadata": {},
     "output_type": "execute_result"
    }
   ],
   "source": [
    "df[\"Coordinates\"] = list(zip(df.longitude, df.latitude))\n",
    "df[\"Coordinates\"] = df[\"Coordinates\"].apply(Point)\n",
    "df.head()"
   ]
  },
  {
   "cell_type": "code",
   "execution_count": 159,
   "metadata": {
    "colab": {
     "base_uri": "https://localhost:8080/",
     "height": 206
    },
    "id": "SBTBrsvlfIU_",
    "outputId": "f25de2e3-840d-4945-a174-eea2fa7f441d"
   },
   "outputs": [
    {
     "data": {
      "text/html": [
       "<div>\n",
       "<style scoped>\n",
       "    .dataframe tbody tr th:only-of-type {\n",
       "        vertical-align: middle;\n",
       "    }\n",
       "\n",
       "    .dataframe tbody tr th {\n",
       "        vertical-align: top;\n",
       "    }\n",
       "\n",
       "    .dataframe thead th {\n",
       "        text-align: right;\n",
       "    }\n",
       "</style>\n",
       "<table border=\"1\" class=\"dataframe\">\n",
       "  <thead>\n",
       "    <tr style=\"text-align: right;\">\n",
       "      <th></th>\n",
       "      <th>name</th>\n",
       "      <th>latitude</th>\n",
       "      <th>longitude</th>\n",
       "      <th>address</th>\n",
       "      <th>phone</th>\n",
       "      <th>website</th>\n",
       "      <th>Coordinates</th>\n",
       "    </tr>\n",
       "  </thead>\n",
       "  <tbody>\n",
       "    <tr>\n",
       "      <th>0</th>\n",
       "      <td>Alabaster</td>\n",
       "      <td>33.224225</td>\n",
       "      <td>-86.804174</td>\n",
       "      <td>250 S Colonial Dr, Alabaster, AL 35007-4657</td>\n",
       "      <td>205-564-2608</td>\n",
       "      <td>https://www.target.com/sl/alabaster/2276</td>\n",
       "      <td>POINT (-86.80417 33.22423)</td>\n",
       "    </tr>\n",
       "    <tr>\n",
       "      <th>1</th>\n",
       "      <td>Bessemer</td>\n",
       "      <td>33.334550</td>\n",
       "      <td>-86.989778</td>\n",
       "      <td>4889 Promenade Pkwy, Bessemer, AL 35022-7305</td>\n",
       "      <td>205-565-3760</td>\n",
       "      <td>https://www.target.com/sl/bessemer/2375</td>\n",
       "      <td>POINT (-86.98978 33.33455)</td>\n",
       "    </tr>\n",
       "    <tr>\n",
       "      <th>2</th>\n",
       "      <td>Daphne</td>\n",
       "      <td>30.602875</td>\n",
       "      <td>-87.895932</td>\n",
       "      <td>1698 US Highway 98, Daphne, AL 36526-4252</td>\n",
       "      <td>251-621-3540</td>\n",
       "      <td>https://www.target.com/sl/daphne/1274</td>\n",
       "      <td>POINT (-87.89593 30.60287)</td>\n",
       "    </tr>\n",
       "    <tr>\n",
       "      <th>3</th>\n",
       "      <td>Decatur</td>\n",
       "      <td>34.560148</td>\n",
       "      <td>-86.971559</td>\n",
       "      <td>1235 Point Mallard Pkwy SE, Decatur, AL 35601-...</td>\n",
       "      <td>256-898-3036</td>\n",
       "      <td>https://www.target.com/sl/decatur/2084</td>\n",
       "      <td>POINT (-86.97156 34.56015)</td>\n",
       "    </tr>\n",
       "    <tr>\n",
       "      <th>4</th>\n",
       "      <td>Dothan</td>\n",
       "      <td>31.266061</td>\n",
       "      <td>-85.446422</td>\n",
       "      <td>4601 Montgomery Hwy, Dothan, AL 36303-1522</td>\n",
       "      <td>334-340-1112</td>\n",
       "      <td>https://www.target.com/sl/dothan/1468</td>\n",
       "      <td>POINT (-85.44642 31.26606)</td>\n",
       "    </tr>\n",
       "  </tbody>\n",
       "</table>\n",
       "</div>"
      ],
      "text/plain": [
       "        name   latitude  longitude  \\\n",
       "0  Alabaster  33.224225 -86.804174   \n",
       "1   Bessemer  33.334550 -86.989778   \n",
       "2     Daphne  30.602875 -87.895932   \n",
       "3    Decatur  34.560148 -86.971559   \n",
       "4     Dothan  31.266061 -85.446422   \n",
       "\n",
       "                                             address         phone  \\\n",
       "0        250 S Colonial Dr, Alabaster, AL 35007-4657  205-564-2608   \n",
       "1       4889 Promenade Pkwy, Bessemer, AL 35022-7305  205-565-3760   \n",
       "2          1698 US Highway 98, Daphne, AL 36526-4252  251-621-3540   \n",
       "3  1235 Point Mallard Pkwy SE, Decatur, AL 35601-...  256-898-3036   \n",
       "4         4601 Montgomery Hwy, Dothan, AL 36303-1522  334-340-1112   \n",
       "\n",
       "                                    website                 Coordinates  \n",
       "0  https://www.target.com/sl/alabaster/2276  POINT (-86.80417 33.22423)  \n",
       "1   https://www.target.com/sl/bessemer/2375  POINT (-86.98978 33.33455)  \n",
       "2     https://www.target.com/sl/daphne/1274  POINT (-87.89593 30.60287)  \n",
       "3    https://www.target.com/sl/decatur/2084  POINT (-86.97156 34.56015)  \n",
       "4     https://www.target.com/sl/dothan/1468  POINT (-85.44642 31.26606)  "
      ]
     },
     "execution_count": 159,
     "metadata": {},
     "output_type": "execute_result"
    }
   ],
   "source": [
    "gdf = gpd.GeoDataFrame(df, geometry=\"Coordinates\")\n",
    "gdf.head()"
   ]
  },
  {
   "cell_type": "code",
   "execution_count": 160,
   "metadata": {
    "colab": {
     "base_uri": "https://localhost:8080/",
     "height": 237
    },
    "id": "wB6Jkrvbfef1",
    "outputId": "1ea8bb73-a723-4998-98a6-e0ee92deaa31"
   },
   "outputs": [
    {
     "data": {
      "text/html": [
       "<div>\n",
       "<style scoped>\n",
       "    .dataframe tbody tr th:only-of-type {\n",
       "        vertical-align: middle;\n",
       "    }\n",
       "\n",
       "    .dataframe tbody tr th {\n",
       "        vertical-align: top;\n",
       "    }\n",
       "\n",
       "    .dataframe thead th {\n",
       "        text-align: right;\n",
       "    }\n",
       "</style>\n",
       "<table border=\"1\" class=\"dataframe\">\n",
       "  <thead>\n",
       "    <tr style=\"text-align: right;\">\n",
       "      <th></th>\n",
       "      <th>pop_est</th>\n",
       "      <th>continent</th>\n",
       "      <th>name</th>\n",
       "      <th>gdp_md_est</th>\n",
       "      <th>geometry</th>\n",
       "    </tr>\n",
       "    <tr>\n",
       "      <th>iso_a3</th>\n",
       "      <th></th>\n",
       "      <th></th>\n",
       "      <th></th>\n",
       "      <th></th>\n",
       "      <th></th>\n",
       "    </tr>\n",
       "  </thead>\n",
       "  <tbody>\n",
       "    <tr>\n",
       "      <th>FJI</th>\n",
       "      <td>920938</td>\n",
       "      <td>Oceania</td>\n",
       "      <td>Fiji</td>\n",
       "      <td>8374.0</td>\n",
       "      <td>MULTIPOLYGON (((180.00000 -16.06713, 180.00000...</td>\n",
       "    </tr>\n",
       "    <tr>\n",
       "      <th>TZA</th>\n",
       "      <td>53950935</td>\n",
       "      <td>Africa</td>\n",
       "      <td>Tanzania</td>\n",
       "      <td>150600.0</td>\n",
       "      <td>POLYGON ((33.90371 -0.95000, 34.07262 -1.05982...</td>\n",
       "    </tr>\n",
       "    <tr>\n",
       "      <th>ESH</th>\n",
       "      <td>603253</td>\n",
       "      <td>Africa</td>\n",
       "      <td>W. Sahara</td>\n",
       "      <td>906.5</td>\n",
       "      <td>POLYGON ((-8.66559 27.65643, -8.66512 27.58948...</td>\n",
       "    </tr>\n",
       "    <tr>\n",
       "      <th>CAN</th>\n",
       "      <td>35623680</td>\n",
       "      <td>North America</td>\n",
       "      <td>Canada</td>\n",
       "      <td>1674000.0</td>\n",
       "      <td>MULTIPOLYGON (((-122.84000 49.00000, -122.9742...</td>\n",
       "    </tr>\n",
       "    <tr>\n",
       "      <th>USA</th>\n",
       "      <td>326625791</td>\n",
       "      <td>North America</td>\n",
       "      <td>United States of America</td>\n",
       "      <td>18560000.0</td>\n",
       "      <td>MULTIPOLYGON (((-122.84000 49.00000, -120.0000...</td>\n",
       "    </tr>\n",
       "  </tbody>\n",
       "</table>\n",
       "</div>"
      ],
      "text/plain": [
       "          pop_est      continent                      name  gdp_md_est  \\\n",
       "iso_a3                                                                   \n",
       "FJI        920938        Oceania                      Fiji      8374.0   \n",
       "TZA      53950935         Africa                  Tanzania    150600.0   \n",
       "ESH        603253         Africa                 W. Sahara       906.5   \n",
       "CAN      35623680  North America                    Canada   1674000.0   \n",
       "USA     326625791  North America  United States of America  18560000.0   \n",
       "\n",
       "                                                 geometry  \n",
       "iso_a3                                                     \n",
       "FJI     MULTIPOLYGON (((180.00000 -16.06713, 180.00000...  \n",
       "TZA     POLYGON ((33.90371 -0.95000, 34.07262 -1.05982...  \n",
       "ESH     POLYGON ((-8.66559 27.65643, -8.66512 27.58948...  \n",
       "CAN     MULTIPOLYGON (((-122.84000 49.00000, -122.9742...  \n",
       "USA     MULTIPOLYGON (((-122.84000 49.00000, -120.0000...  "
      ]
     },
     "execution_count": 160,
     "metadata": {},
     "output_type": "execute_result"
    }
   ],
   "source": [
    "#mapa\n",
    "\n",
    "world = gpd.read_file(gpd.datasets.get_path(\"naturalearth_lowres\"))\n",
    "world = world.set_index(\"iso_a3\")\n",
    "\n",
    "world.head()"
   ]
  },
  {
   "cell_type": "code",
   "execution_count": 161,
   "metadata": {
    "colab": {
     "base_uri": "https://localhost:8080/"
    },
    "id": "0qkBCMSUflw_",
    "outputId": "dd9c73f1-8324-403d-9586-844ffb584bd6"
   },
   "outputs": [
    {
     "data": {
      "text/plain": [
       "array(['Fiji', 'Tanzania', 'W. Sahara', 'Canada',\n",
       "       'United States of America', 'Kazakhstan', 'Uzbekistan',\n",
       "       'Papua New Guinea', 'Indonesia', 'Argentina', 'Chile',\n",
       "       'Dem. Rep. Congo', 'Somalia', 'Kenya', 'Sudan', 'Chad', 'Haiti',\n",
       "       'Dominican Rep.', 'Russia', 'Bahamas', 'Falkland Is.', 'Norway',\n",
       "       'Greenland', 'Fr. S. Antarctic Lands', 'Timor-Leste',\n",
       "       'South Africa', 'Lesotho', 'Mexico', 'Uruguay', 'Brazil',\n",
       "       'Bolivia', 'Peru', 'Colombia', 'Panama', 'Costa Rica', 'Nicaragua',\n",
       "       'Honduras', 'El Salvador', 'Guatemala', 'Belize', 'Venezuela',\n",
       "       'Guyana', 'Suriname', 'France', 'Ecuador', 'Puerto Rico',\n",
       "       'Jamaica', 'Cuba', 'Zimbabwe', 'Botswana', 'Namibia', 'Senegal',\n",
       "       'Mali', 'Mauritania', 'Benin', 'Niger', 'Nigeria', 'Cameroon',\n",
       "       'Togo', 'Ghana', \"Côte d'Ivoire\", 'Guinea', 'Guinea-Bissau',\n",
       "       'Liberia', 'Sierra Leone', 'Burkina Faso', 'Central African Rep.',\n",
       "       'Congo', 'Gabon', 'Eq. Guinea', 'Zambia', 'Malawi', 'Mozambique',\n",
       "       'eSwatini', 'Angola', 'Burundi', 'Israel', 'Lebanon', 'Madagascar',\n",
       "       'Palestine', 'Gambia', 'Tunisia', 'Algeria', 'Jordan',\n",
       "       'United Arab Emirates', 'Qatar', 'Kuwait', 'Iraq', 'Oman',\n",
       "       'Vanuatu', 'Cambodia', 'Thailand', 'Laos', 'Myanmar', 'Vietnam',\n",
       "       'North Korea', 'South Korea', 'Mongolia', 'India', 'Bangladesh',\n",
       "       'Bhutan', 'Nepal', 'Pakistan', 'Afghanistan', 'Tajikistan',\n",
       "       'Kyrgyzstan', 'Turkmenistan', 'Iran', 'Syria', 'Armenia', 'Sweden',\n",
       "       'Belarus', 'Ukraine', 'Poland', 'Austria', 'Hungary', 'Moldova',\n",
       "       'Romania', 'Lithuania', 'Latvia', 'Estonia', 'Germany', 'Bulgaria',\n",
       "       'Greece', 'Turkey', 'Albania', 'Croatia', 'Switzerland',\n",
       "       'Luxembourg', 'Belgium', 'Netherlands', 'Portugal', 'Spain',\n",
       "       'Ireland', 'New Caledonia', 'Solomon Is.', 'New Zealand',\n",
       "       'Australia', 'Sri Lanka', 'China', 'Taiwan', 'Italy', 'Denmark',\n",
       "       'United Kingdom', 'Iceland', 'Azerbaijan', 'Georgia',\n",
       "       'Philippines', 'Malaysia', 'Brunei', 'Slovenia', 'Finland',\n",
       "       'Slovakia', 'Czechia', 'Eritrea', 'Japan', 'Paraguay', 'Yemen',\n",
       "       'Saudi Arabia', 'Antarctica', 'N. Cyprus', 'Cyprus', 'Morocco',\n",
       "       'Egypt', 'Libya', 'Ethiopia', 'Djibouti', 'Somaliland', 'Uganda',\n",
       "       'Rwanda', 'Bosnia and Herz.', 'Macedonia', 'Serbia', 'Montenegro',\n",
       "       'Kosovo', 'Trinidad and Tobago', 'S. Sudan'], dtype=object)"
      ]
     },
     "execution_count": 161,
     "metadata": {},
     "output_type": "execute_result"
    }
   ],
   "source": [
    "#graficar el mapa\n",
    "world.name.unique()"
   ]
  },
  {
   "cell_type": "code",
   "execution_count": 162,
   "metadata": {
    "colab": {
     "base_uri": "https://localhost:8080/",
     "height": 476
    },
    "id": "swDogh7dfusl",
    "outputId": "666073c5-77ef-4a17-d146-5d7be00e6f1d"
   },
   "outputs": [
    {
     "data": {
      "image/png": "[encoded data removed]",
      "text/plain": [
       "<Figure size 720x720 with 1 Axes>"
      ]
     },
     "metadata": {
      "needs_background": "light"
     },
     "output_type": "display_data"
    }
   ],
   "source": [
    "fig, gax = plt.subplots(figsize=(10,10))\n",
    "\n",
    "# By only plotting rows in which the continent is 'South America' we only plot SA.\n",
    "world.query(\"name == 'United States of America'\").plot(ax=gax, edgecolor='black',color='white')\n",
    "\n",
    "# By the way, if you haven't read the book 'longitude' by Dava Sobel, you should...\n",
    "gax.set_xlabel('longitude')\n",
    "gax.set_ylabel('latitude')\n",
    "\n",
    "gax.spines['top'].set_visible(False)\n",
    "gax.spines['right'].set_visible(False)"
   ]
  },
  {
   "cell_type": "code",
   "execution_count": 163,
   "metadata": {
    "colab": {
     "base_uri": "https://localhost:8080/",
     "height": 381
    },
    "id": "OR0ydTOvf_Xp",
    "outputId": "9138b4b8-6c2f-4887-bb39-b34e92c6aac4"
   },
   "outputs": [
    {
     "data": {
      "image/png": "[encoded data removed]",
      "text/plain": [
       "<Figure size 720x720 with 1 Axes>"
      ]
     },
     "metadata": {
      "needs_background": "light"
     },
     "output_type": "display_data"
    }
   ],
   "source": [
    "# Step 3: Plot the cities onto the map\n",
    "# We mostly use the code from before --- we still want the country borders plotted --- and we\n",
    "# add a command to plot the cities\n",
    "fig, gax = plt.subplots(figsize=(10,10))\n",
    "\n",
    "# By only plotting rows in which the continent is 'South America' we only plot, well,\n",
    "# South America.\n",
    "world.query(\"name == 'United States of America'\").plot(ax = gax, edgecolor='black', color='white')\n",
    "\n",
    "# This plot the cities. It's the same syntax, but we are plotting from a different GeoDataFrame.\n",
    "# I want the cities as pale red dots.\n",
    "gdf.plot(ax=gax, color='red', alpha = 0.5)\n",
    "\n",
    "gax.set_xlabel('longitude')\n",
    "gax.set_ylabel('latitude')\n",
    "gax.set_title('Target en Estados Unidos')\n",
    "\n",
    "gax.spines['top'].set_visible(False)\n",
    "gax.spines['right'].set_visible(False)\n",
    "\n",
    "plt.show()"
   ]
  },
  {
   "cell_type": "markdown",
   "metadata": {
    "id": "SMkonhsqfgSf"
   },
   "source": [
    "¿qué tal ahora?, tiene mayor sentido verdad, entonces los datos lejanos no eran atípicos, de aquí la importancia de ver los datos con el tipo de gráfica correcta.\n",
    "\n",
    "Ahora sí, implementa K means a los datos de latitud y longitud :) y encuentra donde colocar los almacenes. \n",
    "\n",
    "Nota: si te llama la atención implementar alguna otra visualización con otra librería, lo puedes hacer, no hay restricciones."
   ]
  },
  {
   "cell_type": "markdown",
   "metadata": {},
   "source": [
    "# Inicio de la tarea"
   ]
  },
  {
   "cell_type": "markdown",
   "metadata": {},
   "source": [
    "# Primero que nada debemos de calcular cuantos almacenes habrá"
   ]
  },
  {
   "cell_type": "code",
   "execution_count": 164,
   "metadata": {
    "id": "IfXq2ieSgD2e"
   },
   "outputs": [
    {
     "data": {
      "image/png": "[encoded data removed]",
      "text/plain": [
       "<Figure size 432x288 with 1 Axes>"
      ]
     },
     "metadata": {
      "needs_background": "light"
     },
     "output_type": "display_data"
    }
   ],
   "source": [
    "#tu codigo aquí\n",
    "from sklearn import preprocessing, cluster\n",
    "\n",
    "#Buscaremos los clusters dependiendo de su latitud y longitud combinada\n",
    "X = latlong.copy()\n",
    "max_k = 10## iterations\n",
    "distortions = [] \n",
    "for i in range(1, max_k+1):\n",
    "    if len(X) >= i:\n",
    "       model = cluster.KMeans(n_clusters=i, init='k-means++', max_iter=300, n_init=10, random_state=0)\n",
    "       model.fit(X)\n",
    "       distortions.append(model.inertia_)## best k: the lowest derivative\n",
    "k = [i*100 for i in np.diff(distortions,2)].index(min([i*100 for i \n",
    "     in np.diff(distortions,2)]))## plot\n",
    "fig, ax = plt.subplots()\n",
    "ax.plot(range(1, len(distortions)+1), distortions)\n",
    "ax.axvline(k, ls='--', color=\"red\", label=\"k = \"+str(k))\n",
    "ax.set(title='The Elbow Method', xlabel='Number of clusters', \n",
    "       ylabel=\"Distortion\")\n",
    "ax.legend()\n",
    "ax.grid(True)\n",
    "plt.show()"
   ]
  },
  {
   "cell_type": "markdown",
   "metadata": {},
   "source": [
    "El método Elbow o **codo ** nos ayuda a elegir el número optimo de clústers, cuando buscamos hacer clasificación en un conjunto de datos. Para hacer uso de este método partimos del cálculo de la distorsión promedio de cada clúster, esto es la distancia de cada elemento con su centroide correspondiente.\n",
    "\n",
    "![imagen.png](https://static.platzi.com/media/user_upload/distorsion-bb93b4c0-3b86-4c37-9c01-a5caf70fecf8.jpg)\n",
    "\n",
    "Al interpretar el grafico, y mediante el concepto de metodo del codo, definimos que 4 es la cantidad optima de almacenes a utilizar. Mas adelante verificaremos greaficamente el como estos 4 clusters se ven repartidos en un espacio 2D latitud vs longitud"
   ]
  },
  {
   "cell_type": "code",
   "execution_count": 165,
   "metadata": {},
   "outputs": [],
   "source": [
    "\n",
    "#Busquemos cuales son los centroides de los 4 clusters\n",
    "k = 4\n",
    "\n",
    "model = cluster.KMeans(n_clusters=k, init='k-means++')\n",
    "X = latlong.copy() # Cluster\n",
    "dtf_X = X.copy()\n",
    "dtf_X[\"cluster\"] = model.fit_predict(X) ## Buscar los almacenes (Distancia mas corta a todas las tiendas a su alrededor)\n",
    "closest, distances = scipy.cluster.vq.vq(model.cluster_centers_, dtf_X.drop(\"cluster\", axis=1).values)\n",
    "dtf_X[\"almacen\"] = 0\n",
    "for i in closest:\n",
    "    dtf_X[\"almacen\"].iloc[i] = 1\n",
    "df[[\"cluster\",\"almacen\"]] = dtf_X[[\"cluster\",\"almacen\"]]\n",
    "\n",
    "#df.sample(5)"
   ]
  },
  {
   "cell_type": "code",
   "execution_count": 166,
   "metadata": {},
   "outputs": [],
   "source": [
    "#Clenaing dataset for relevant data\n",
    "df.drop(columns=['address','phone','website'], inplace=True)"
   ]
  },
  {
   "cell_type": "markdown",
   "metadata": {},
   "source": [
    "\n",
    "#  Se crea una columna con las coordenadas enpaquetadas para despues buscar su ciudad mediante geocode reversing"
   ]
  },
  {
   "cell_type": "code",
   "execution_count": 167,
   "metadata": {},
   "outputs": [],
   "source": [
    "df['Real_coordinates'] = list(zip(df.latitude, df.longitude))"
   ]
  },
  {
   "cell_type": "code",
   "execution_count": 168,
   "metadata": {},
   "outputs": [],
   "source": [
    "coordinates = df['Real_coordinates'].tolist()\n",
    "listOfDicts = reverse_geocode.search(coordinates)\n",
    "\n",
    "city = [i['city'] for i in listOfDicts if 'city' in i]\n",
    "city\n",
    "\n",
    "df['City'] = city\n",
    "#df.head()"
   ]
  },
  {
   "cell_type": "markdown",
   "metadata": {},
   "source": [
    "# Esta sería la ubicacion de los 4 almacenes, así como la ciudad a la que pertenecen:"
   ]
  },
  {
   "cell_type": "code",
   "execution_count": 169,
   "metadata": {},
   "outputs": [
    {
     "data": {
      "text/html": [
       "<div>\n",
       "<style scoped>\n",
       "    .dataframe tbody tr th:only-of-type {\n",
       "        vertical-align: middle;\n",
       "    }\n",
       "\n",
       "    .dataframe tbody tr th {\n",
       "        vertical-align: top;\n",
       "    }\n",
       "\n",
       "    .dataframe thead th {\n",
       "        text-align: right;\n",
       "    }\n",
       "</style>\n",
       "<table border=\"1\" class=\"dataframe\">\n",
       "  <thead>\n",
       "    <tr style=\"text-align: right;\">\n",
       "      <th></th>\n",
       "      <th>name</th>\n",
       "      <th>latitude</th>\n",
       "      <th>longitude</th>\n",
       "      <th>Coordinates</th>\n",
       "      <th>cluster</th>\n",
       "      <th>almacen</th>\n",
       "      <th>Real_coordinates</th>\n",
       "      <th>City</th>\n",
       "    </tr>\n",
       "  </thead>\n",
       "  <tbody>\n",
       "    <tr>\n",
       "      <th>213</th>\n",
       "      <td>Clovis NW</td>\n",
       "      <td>36.840307</td>\n",
       "      <td>-119.728331</td>\n",
       "      <td>POINT (-119.72833 36.84031)</td>\n",
       "      <td>0</td>\n",
       "      <td>1</td>\n",
       "      <td>(36.8403069, -119.7283315)</td>\n",
       "      <td>Clovis</td>\n",
       "    </tr>\n",
       "    <tr>\n",
       "      <th>1507</th>\n",
       "      <td>Farragut</td>\n",
       "      <td>35.900267</td>\n",
       "      <td>-84.147306</td>\n",
       "      <td>POINT (-84.14731 35.90027)</td>\n",
       "      <td>1</td>\n",
       "      <td>1</td>\n",
       "      <td>(35.9002667, -84.1473061)</td>\n",
       "      <td>Farragut</td>\n",
       "    </tr>\n",
       "    <tr>\n",
       "      <th>697</th>\n",
       "      <td>Derby</td>\n",
       "      <td>37.568399</td>\n",
       "      <td>-97.241219</td>\n",
       "      <td>POINT (-97.24122 37.56840)</td>\n",
       "      <td>2</td>\n",
       "      <td>1</td>\n",
       "      <td>(37.5683987, -97.2412189)</td>\n",
       "      <td>Derby</td>\n",
       "    </tr>\n",
       "    <tr>\n",
       "      <th>1405</th>\n",
       "      <td>Montgomeryville</td>\n",
       "      <td>40.224189</td>\n",
       "      <td>-75.240431</td>\n",
       "      <td>POINT (-75.24043 40.22419)</td>\n",
       "      <td>3</td>\n",
       "      <td>1</td>\n",
       "      <td>(40.2241891, -75.24043139999999)</td>\n",
       "      <td>Montgomeryville</td>\n",
       "    </tr>\n",
       "  </tbody>\n",
       "</table>\n",
       "</div>"
      ],
      "text/plain": [
       "                 name   latitude   longitude                  Coordinates  \\\n",
       "213         Clovis NW  36.840307 -119.728331  POINT (-119.72833 36.84031)   \n",
       "1507         Farragut  35.900267  -84.147306   POINT (-84.14731 35.90027)   \n",
       "697             Derby  37.568399  -97.241219   POINT (-97.24122 37.56840)   \n",
       "1405  Montgomeryville  40.224189  -75.240431   POINT (-75.24043 40.22419)   \n",
       "\n",
       "      cluster  almacen                  Real_coordinates             City  \n",
       "213         0        1        (36.8403069, -119.7283315)           Clovis  \n",
       "1507        1        1         (35.9002667, -84.1473061)         Farragut  \n",
       "697         2        1         (37.5683987, -97.2412189)            Derby  \n",
       "1405        3        1  (40.2241891, -75.24043139999999)  Montgomeryville  "
      ]
     },
     "execution_count": 169,
     "metadata": {},
     "output_type": "execute_result"
    }
   ],
   "source": [
    "\n",
    "warehouses = df.loc[(df['almacen'] == 1)]\n",
    "warehouses.sort_values(by=['cluster'])"
   ]
  },
  {
   "cell_type": "markdown",
   "metadata": {},
   "source": [
    "#  Obteniendo la distancia hacia el almacen mas cercano"
   ]
  },
  {
   "cell_type": "code",
   "execution_count": 170,
   "metadata": {
    "scrolled": true
   },
   "outputs": [
    {
     "data": {
      "text/html": [
       "<div>\n",
       "<style scoped>\n",
       "    .dataframe tbody tr th:only-of-type {\n",
       "        vertical-align: middle;\n",
       "    }\n",
       "\n",
       "    .dataframe tbody tr th {\n",
       "        vertical-align: top;\n",
       "    }\n",
       "\n",
       "    .dataframe thead th {\n",
       "        text-align: right;\n",
       "    }\n",
       "</style>\n",
       "<table border=\"1\" class=\"dataframe\">\n",
       "  <thead>\n",
       "    <tr style=\"text-align: right;\">\n",
       "      <th></th>\n",
       "      <th>name</th>\n",
       "      <th>latitude</th>\n",
       "      <th>longitude</th>\n",
       "      <th>Coordinates</th>\n",
       "      <th>cluster</th>\n",
       "      <th>almacen</th>\n",
       "      <th>Real_coordinates</th>\n",
       "      <th>City</th>\n",
       "      <th>distance to nearest warehouse</th>\n",
       "    </tr>\n",
       "  </thead>\n",
       "  <tbody>\n",
       "    <tr>\n",
       "      <th>213</th>\n",
       "      <td>Clovis NW</td>\n",
       "      <td>36.840307</td>\n",
       "      <td>-119.728331</td>\n",
       "      <td>POINT (-119.72833 36.84031)</td>\n",
       "      <td>0</td>\n",
       "      <td>1</td>\n",
       "      <td>(36.8403069, -119.7283315)</td>\n",
       "      <td>Clovis</td>\n",
       "      <td>0.000000</td>\n",
       "    </tr>\n",
       "    <tr>\n",
       "      <th>1507</th>\n",
       "      <td>Farragut</td>\n",
       "      <td>35.900267</td>\n",
       "      <td>-84.147306</td>\n",
       "      <td>POINT (-84.14731 35.90027)</td>\n",
       "      <td>1</td>\n",
       "      <td>1</td>\n",
       "      <td>(35.9002667, -84.1473061)</td>\n",
       "      <td>Farragut</td>\n",
       "      <td>0.000000</td>\n",
       "    </tr>\n",
       "    <tr>\n",
       "      <th>697</th>\n",
       "      <td>Derby</td>\n",
       "      <td>37.568399</td>\n",
       "      <td>-97.241219</td>\n",
       "      <td>POINT (-97.24122 37.56840)</td>\n",
       "      <td>2</td>\n",
       "      <td>1</td>\n",
       "      <td>(37.5683987, -97.2412189)</td>\n",
       "      <td>Derby</td>\n",
       "      <td>0.000000</td>\n",
       "    </tr>\n",
       "    <tr>\n",
       "      <th>1405</th>\n",
       "      <td>Montgomeryville</td>\n",
       "      <td>40.224189</td>\n",
       "      <td>-75.240431</td>\n",
       "      <td>POINT (-75.24043 40.22419)</td>\n",
       "      <td>3</td>\n",
       "      <td>1</td>\n",
       "      <td>(40.2241891, -75.24043139999999)</td>\n",
       "      <td>Montgomeryville</td>\n",
       "      <td>0.000000</td>\n",
       "    </tr>\n",
       "    <tr>\n",
       "      <th>212</th>\n",
       "      <td>Clovis</td>\n",
       "      <td>36.806538</td>\n",
       "      <td>-119.698983</td>\n",
       "      <td>POINT (-119.69898 36.80654)</td>\n",
       "      <td>0</td>\n",
       "      <td>0</td>\n",
       "      <td>(36.8065383, -119.6989832)</td>\n",
       "      <td>Tarpey Village</td>\n",
       "      <td>4.574202</td>\n",
       "    </tr>\n",
       "    <tr>\n",
       "      <th>220</th>\n",
       "      <td>Blackstone and Nees Ave</td>\n",
       "      <td>36.847623</td>\n",
       "      <td>-119.786573</td>\n",
       "      <td>POINT (-119.78657 36.84762)</td>\n",
       "      <td>0</td>\n",
       "      <td>0</td>\n",
       "      <td>(36.8476233, -119.786573)</td>\n",
       "      <td>Old Fig Garden</td>\n",
       "      <td>5.246150</td>\n",
       "    </tr>\n",
       "    <tr>\n",
       "      <th>221</th>\n",
       "      <td>Blackstone and Bullard</td>\n",
       "      <td>36.821646</td>\n",
       "      <td>-119.787839</td>\n",
       "      <td>POINT (-119.78784 36.82165)</td>\n",
       "      <td>0</td>\n",
       "      <td>0</td>\n",
       "      <td>(36.8216456, -119.7878394)</td>\n",
       "      <td>Old Fig Garden</td>\n",
       "      <td>5.688264</td>\n",
       "    </tr>\n",
       "    <tr>\n",
       "      <th>1509</th>\n",
       "      <td>Knoxville South</td>\n",
       "      <td>35.862375</td>\n",
       "      <td>-84.079609</td>\n",
       "      <td>POINT (-84.07961 35.86237)</td>\n",
       "      <td>1</td>\n",
       "      <td>0</td>\n",
       "      <td>(35.8623747, -84.0796089)</td>\n",
       "      <td>Louisville</td>\n",
       "      <td>7.412941</td>\n",
       "    </tr>\n",
       "    <tr>\n",
       "      <th>219</th>\n",
       "      <td>Fresno South</td>\n",
       "      <td>36.780661</td>\n",
       "      <td>-119.771013</td>\n",
       "      <td>POINT (-119.77101 36.78066)</td>\n",
       "      <td>0</td>\n",
       "      <td>0</td>\n",
       "      <td>(36.7806605, -119.7710135)</td>\n",
       "      <td>Fresno</td>\n",
       "      <td>7.643733</td>\n",
       "    </tr>\n",
       "    <tr>\n",
       "      <th>1417</th>\n",
       "      <td>Warrington</td>\n",
       "      <td>40.223769</td>\n",
       "      <td>-75.136478</td>\n",
       "      <td>POINT (-75.13648 40.22377)</td>\n",
       "      <td>3</td>\n",
       "      <td>0</td>\n",
       "      <td>(40.22376879999999, -75.13647809999999)</td>\n",
       "      <td>Maple Glen</td>\n",
       "      <td>8.825779</td>\n",
       "    </tr>\n",
       "  </tbody>\n",
       "</table>\n",
       "</div>"
      ],
      "text/plain": [
       "                         name   latitude   longitude  \\\n",
       "213                 Clovis NW  36.840307 -119.728331   \n",
       "1507                 Farragut  35.900267  -84.147306   \n",
       "697                     Derby  37.568399  -97.241219   \n",
       "1405          Montgomeryville  40.224189  -75.240431   \n",
       "212                    Clovis  36.806538 -119.698983   \n",
       "220   Blackstone and Nees Ave  36.847623 -119.786573   \n",
       "221    Blackstone and Bullard  36.821646 -119.787839   \n",
       "1509          Knoxville South  35.862375  -84.079609   \n",
       "219              Fresno South  36.780661 -119.771013   \n",
       "1417               Warrington  40.223769  -75.136478   \n",
       "\n",
       "                      Coordinates  cluster  almacen  \\\n",
       "213   POINT (-119.72833 36.84031)        0        1   \n",
       "1507   POINT (-84.14731 35.90027)        1        1   \n",
       "697    POINT (-97.24122 37.56840)        2        1   \n",
       "1405   POINT (-75.24043 40.22419)        3        1   \n",
       "212   POINT (-119.69898 36.80654)        0        0   \n",
       "220   POINT (-119.78657 36.84762)        0        0   \n",
       "221   POINT (-119.78784 36.82165)        0        0   \n",
       "1509   POINT (-84.07961 35.86237)        1        0   \n",
       "219   POINT (-119.77101 36.78066)        0        0   \n",
       "1417   POINT (-75.13648 40.22377)        3        0   \n",
       "\n",
       "                             Real_coordinates             City  \\\n",
       "213                (36.8403069, -119.7283315)           Clovis   \n",
       "1507                (35.9002667, -84.1473061)         Farragut   \n",
       "697                 (37.5683987, -97.2412189)            Derby   \n",
       "1405         (40.2241891, -75.24043139999999)  Montgomeryville   \n",
       "212                (36.8065383, -119.6989832)   Tarpey Village   \n",
       "220                 (36.8476233, -119.786573)   Old Fig Garden   \n",
       "221                (36.8216456, -119.7878394)   Old Fig Garden   \n",
       "1509                (35.8623747, -84.0796089)       Louisville   \n",
       "219                (36.7806605, -119.7710135)           Fresno   \n",
       "1417  (40.22376879999999, -75.13647809999999)       Maple Glen   \n",
       "\n",
       "      distance to nearest warehouse  \n",
       "213                        0.000000  \n",
       "1507                       0.000000  \n",
       "697                        0.000000  \n",
       "1405                       0.000000  \n",
       "212                        4.574202  \n",
       "220                        5.246150  \n",
       "221                        5.688264  \n",
       "1509                       7.412941  \n",
       "219                        7.643733  \n",
       "1417                       8.825779  "
      ]
     },
     "execution_count": 170,
     "metadata": {},
     "output_type": "execute_result"
    }
   ],
   "source": [
    "# Python 3 program to calculate Distance Between Two Points on Earth\n",
    "from math import radians, cos, sin, asin, sqrt\n",
    "def distance(lat2, lon2, cluster):\n",
    "    \n",
    "    df4=warehouses.loc[warehouses['cluster'] == cluster, 'Real_coordinates'].item()\n",
    "    lat1,lon1 = df4\n",
    "\n",
    "    # The math module contains a function named\n",
    "    # radians which converts from degrees to radians.\n",
    "    lon1 = radians(lon1)\n",
    "    lon2 = radians(lon2)\n",
    "    lat1 = radians(lat1)\n",
    "    lat2 = radians(lat2)\n",
    "      \n",
    "    # Haversine formula\n",
    "    dlon = lon2 - lon1\n",
    "    dlat = lat2 - lat1\n",
    "    a = sin(dlat / 2)**2 + cos(lat1) * cos(lat2) * sin(dlon / 2)**2\n",
    " \n",
    "    c = 2 * asin(sqrt(a))\n",
    "    \n",
    "    # Radius of earth in kilometers. Use 3956 for miles\n",
    "    r = 6371\n",
    "      \n",
    "    # calculate the result\n",
    "    return(c * r)\n",
    "\n",
    "\n",
    "df[\"distance to nearest warehouse\"] = df[['latitude', 'longitude', 'cluster']].apply(lambda x : distance(*x), axis=1)\n",
    "df[\"distance to nearest warehouse\"] = pd.to_numeric(df['distance to nearest warehouse'])\n",
    "df.sort_values(by=['distance to nearest warehouse','cluster'], inplace=True)\n",
    "df.head(10)"
   ]
  },
  {
   "cell_type": "markdown",
   "metadata": {},
   "source": [
    "Aqui podemos observar que los primeros renglones, muestran una distancia 0 a su bodega mas cercana, porque ellos mismos son el almacen. Despues, comenzamos a ver las distancias a las que se encuentra cada tienda de su respectivo almacen."
   ]
  },
  {
   "cell_type": "code",
   "execution_count": 171,
   "metadata": {
    "scrolled": true
   },
   "outputs": [
    {
     "data": {
      "text/plain": [
       "<matplotlib.collections.PathCollection at 0x24fc988e9c8>"
      ]
     },
     "execution_count": 171,
     "metadata": {},
     "output_type": "execute_result"
    },
    {
     "data": {
      "image/png": "[encoded data removed]",
      "text/plain": [
       "<Figure size 432x288 with 1 Axes>"
      ]
     },
     "metadata": {
      "needs_background": "light"
     },
     "output_type": "display_data"
    }
   ],
   "source": [
    "# Las X muestran los centroides de los almacenes (expresado en altitud y longitud)\n",
    "\n",
    "import seaborn as sns\n",
    "from matplotlib import rcParams\n",
    "\n",
    "fig, ax = plt.subplots()\n",
    "rcParams['figure.figsize'] = 10,10\n",
    "sns.scatterplot(x=\"latitude\", y=\"longitude\", data=df, \n",
    "                palette=sns.color_palette(\"bright\",k),\n",
    "                hue='cluster', size=\"almacen\", size_order=[1,0],\n",
    "                legend=\"brief\", ax=ax).set_title('Clustering')\n",
    "                \n",
    "th_centroids = model.cluster_centers_\n",
    "ax.scatter(th_centroids[:,0], th_centroids[:,1], s=50, c='black', marker=\"x\")"
   ]
  },
  {
   "cell_type": "markdown",
   "metadata": {},
   "source": [
    "Esta grafica nos ayuda mucho a verificar que la segmentacion entre los clusters haga sentido."
   ]
  },
  {
   "cell_type": "markdown",
   "metadata": {},
   "source": [
    "# Graficando los almacenes en un mapa"
   ]
  },
  {
   "cell_type": "code",
   "execution_count": 172,
   "metadata": {},
   "outputs": [
    {
     "data": {
      "image/png": "[encoded data removed]",
      "text/plain": [
       "<Figure size 720x720 with 1 Axes>"
      ]
     },
     "metadata": {
      "needs_background": "light"
     },
     "output_type": "display_data"
    }
   ],
   "source": [
    "#Para graficarlos en un mapa\n",
    "warehouses_gdf = gpd.GeoDataFrame(warehouses, geometry=\"Coordinates\")\n",
    "warehouses_gdf.head()\n",
    "\n",
    "fig, gax = plt.subplots(figsize=(10,10))\n",
    "\n",
    "world.query(\"name == 'United States of America'\").plot(ax = gax, edgecolor='black', color='white')\n",
    "\n",
    "warehouses_gdf.plot(ax=gax, color='red', alpha = 0.5)\n",
    "\n",
    "gax.set_xlabel('longitude')\n",
    "gax.set_ylabel('latitude')\n",
    "gax.set_title('Ciudades donde tendremos los almacenes')\n",
    "\n",
    "# Kill the spines...\n",
    "gax.spines['top'].set_visible(False)\n",
    "gax.spines['right'].set_visible(False)\n",
    "\n",
    "# ...or get rid of all the axis. Is it important to know the lat and long?\n",
    "plt.axis('off')\n",
    "\n",
    "# Label the cities\n",
    "for x, y, label in zip(warehouses_gdf['Coordinates'].x, warehouses_gdf['Coordinates'].y, warehouses_gdf['City']):\n",
    "    gax.annotate(label, xy=(x,y), xytext=(4,4), textcoords='offset points')\n",
    "\n",
    "plt.show()"
   ]
  },
  {
   "cell_type": "markdown",
   "metadata": {},
   "source": [
    "# Calculando cuantas tiendas proveera cada almacen"
   ]
  },
  {
   "cell_type": "code",
   "execution_count": 173,
   "metadata": {
    "scrolled": true
   },
   "outputs": [
    {
     "data": {
      "text/plain": [
       "<AxesSubplot:xlabel='City'>"
      ]
     },
     "execution_count": 173,
     "metadata": {},
     "output_type": "execute_result"
    },
    {
     "data": {
      "image/png": "[encoded data removed]",
      "text/plain": [
       "<Figure size 720x720 with 1 Axes>"
      ]
     },
     "metadata": {
      "needs_background": "light"
     },
     "output_type": "display_data"
    }
   ],
   "source": [
    "df2 = df.groupby(['cluster'])['name'].agg('count').reset_index()\n",
    "df2.rename(columns={'name':'stores to supply'}, inplace=True)\n",
    "chart = df2.merge(warehouses, left_on='cluster', right_on='cluster')\n",
    "chart.plot.bar(x='City', y='stores to supply', rot=0)\n",
    "\n"
   ]
  },
  {
   "cell_type": "markdown",
   "metadata": {},
   "source": [
    "# Conclusiones finales"
   ]
  },
  {
   "cell_type": "markdown",
   "metadata": {},
   "source": [
    "Es muy importante hacer entendible los resultados de todo nuestro analisis a usuarios que no conozcan nada del mundo de Ciencia de datos.\n",
    "Es por ello que el hacer uso de una herramienta de visualizacion, donde muestra los puntos en un mapa es muy acertado, de esta manera el usuario que vea estos resultados, entendera muy facilmente la ubicacion y la cantidad de almacenes que necesitamos.\n",
    "\n",
    "Existen varias librerias para visualizar datos geograficos como Arcpy. Geopandas (la cual usamos en este notebook), GDAL/OGR, PyProj y RSGISLib."
   ]
  }
 ],
 "metadata": {
  "colab": {
   "provenance": []
  },
  "kernelspec": {
   "display_name": "Python [conda env:.conda-PressCurves]",
   "language": "python",
   "name": "conda-env-.conda-PressCurves-py"
  },
  "language_info": {
   "codemirror_mode": {
    "name": "ipython",
    "version": 3
   },
   "file_extension": ".py",
   "mimetype": "text/x-python",
   "name": "python",
   "nbconvert_exporter": "python",
   "pygments_lexer": "ipython3",
   "version": "3.7.9"
  },
  "vscode": {
   "interpreter": {
    "hash": "1fe9a8cd2f9ad928380f51f843a16884a4f86c372763f5ef1c9176e8f8f59446"
   }
  }
 },
 "nbformat": 4,
 "nbformat_minor": 1
}
