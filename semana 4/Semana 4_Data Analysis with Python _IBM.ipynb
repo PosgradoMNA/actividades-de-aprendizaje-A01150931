{
 "cells": [
  {
   "cell_type": "markdown",
   "metadata": {},
   "source": [
    "Nothing to test on module 1. The lab is on file \"DA0101EN-Review-Introduction.jupyterlite\""
   ]
  }
 ],
 "metadata": {
  "language_info": {
   "name": "python"
  },
  "orig_nbformat": 4
 },
 "nbformat": 4,
 "nbformat_minor": 2
}
